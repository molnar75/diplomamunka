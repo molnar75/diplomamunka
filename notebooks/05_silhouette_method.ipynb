{
 "cells": [
  {
   "cell_type": "markdown",
   "metadata": {},
   "source": [
    "# Testing Silhouette method for different image sizes"
   ]
  },
  {
   "cell_type": "markdown",
   "metadata": {},
   "source": [
    "### Calculating the Silhouette method for different sizes and plotting run times"
   ]
  },
  {
   "cell_type": "code",
   "execution_count": null,
   "metadata": {},
   "outputs": [],
   "source": [
    "from matplotlib import pyplot as plt\n",
    "import commonmethods.image_modification as im\n",
    "import commonmethods.optimal_cluster_number as ocn\n",
    "\n",
    "size_values = [128, 256, 512]\n",
    "image = im.load_image_grayscale(\"5\")\n",
    "s_times = []\n",
    "s_scores = []\n",
    "\n",
    "for size in size_values:    \n",
    "    image = im.resize_image(image, size)\n",
    "    \n",
    "    compactness, pixel_values, labels = im.kmeans_segmentation(image, 2)\n",
    "    \n",
    "    s_time, s_score = ocn.silhouette_method(pixel_values, labels)\n",
    "    \n",
    "    s_times.append(s_time)\n",
    "    s_scores.append(s_score)\n",
    "    \n",
    "print(s_scores)\n",
    "print(s_times)\n",
    "\n",
    "default_x_ticks = range(len(size_values))\n",
    "\n",
    "plt.title('Running times of Silhouette method for different sizes')\n",
    "\n",
    "plt.plot(s_times)\n",
    "\n",
    "plt.xticks(default_x_ticks, size_values)\n",
    "\n",
    "plt.xlabel(\"Image size\")\n",
    "plt.ylabel(\"Time (s)\")\n",
    "\n",
    "plt.show()"
   ]
  },
  {
   "cell_type": "markdown",
   "metadata": {},
   "source": [
    "## Silhouette method with different sizes and cluster numbers"
   ]
  },
  {
   "cell_type": "code",
   "execution_count": null,
   "metadata": {},
   "outputs": [],
   "source": [
    "from matplotlib import pyplot as plt\n",
    "import commonmethods.image_modification as im\n",
    "import commonmethods.optimal_cluster_number as ocn\n",
    "\n",
    "size_values = [64, 128, 256]\n",
    "image = im.load_image_grayscale(\"5\")\n",
    "s_closest = [[0, 2], [0, 2], [0, 2]]\n",
    "all_times = []\n",
    "\n",
    "for i in range(2, 11):\n",
    "    s_times = []\n",
    "    s_scores = []\n",
    "\n",
    "    for j, size in enumerate(size_values):    \n",
    "        resized_image = im.resize_image(image, size)\n",
    "\n",
    "        compactness, pixel_values, labels = im.kmeans_segmentation(resized_image, 2)\n",
    "\n",
    "        s_time, s_score = ocn.silhouette_method(pixel_values, labels)\n",
    "\n",
    "        s_times.append(s_time)\n",
    "        s_scores.append(s_score)\n",
    "        \n",
    "        #get the best cluster number\n",
    "        if((1-s_score) < (1-s_closest[j][0])):\n",
    "            s_closest[j] = [s_score, i]\n",
    "\n",
    "    all_times.append(s_times)\n",
    "            \n",
    "default_x_ticks = range(len(size_values))\n",
    "\n",
    "plt.title('Running times of Silhouette method for different sizes')\n",
    "\n",
    "plt.plot(all_times[0], label='2 cluster')\n",
    "plt.plot(all_times[4], label='6 cluster')\n",
    "plt.plot(all_times[8], label='10 cluster')\n",
    "\n",
    "plt.xticks(default_x_ticks, size_values)\n",
    "\n",
    "plt.xlabel(\"Image size\")\n",
    "plt.ylabel(\"Time (s)\")\n",
    "\n",
    "plt.legend()\n",
    "plt.show()\n",
    "    \n",
    "print(s_closest)"
   ]
  },
  {
   "cell_type": "code",
   "execution_count": null,
   "metadata": {},
   "outputs": [],
   "source": []
  }
 ],
 "metadata": {
  "kernelspec": {
   "display_name": "Python 3",
   "language": "python",
   "name": "python3"
  },
  "language_info": {
   "codemirror_mode": {
    "name": "ipython",
    "version": 3
   },
   "file_extension": ".py",
   "mimetype": "text/x-python",
   "name": "python",
   "nbconvert_exporter": "python",
   "pygments_lexer": "ipython3",
   "version": "3.8.5"
  }
 },
 "nbformat": 4,
 "nbformat_minor": 4
}
