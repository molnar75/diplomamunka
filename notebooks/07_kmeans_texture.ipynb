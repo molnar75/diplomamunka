{
 "cells": [
  {
   "cell_type": "markdown",
   "id": "2c444b2b",
   "metadata": {},
   "source": [
    "# Testing kmeans method with image frames (16x16)"
   ]
  },
  {
   "cell_type": "markdown",
   "id": "c480c533",
   "metadata": {},
   "source": [
    "## Loading the image "
   ]
  },
  {
   "cell_type": "code",
   "execution_count": 2,
   "id": "8ac4c4f0",
   "metadata": {},
   "outputs": [],
   "source": [
    "import commonmethods.image_modification as im\n",
    "\n",
    "image = im.load_image_grayscale('5')\n",
    "\n",
    "resized_image = im.resize_image(image, 1024)"
   ]
  },
  {
   "cell_type": "markdown",
   "id": "53939c90",
   "metadata": {},
   "source": [
    "## Method for getting the image frame, size: 16x16"
   ]
  },
  {
   "cell_type": "code",
   "execution_count": 5,
   "id": "ba081c62",
   "metadata": {},
   "outputs": [],
   "source": [
    "from matplotlib import pyplot as plt\n",
    "import numpy as np\n",
    "\n",
    "def get_frame(row_number, column_number):\n",
    "    frame = np.zeros((16, 16, 3))\n",
    "\n",
    "    for i in range(0, 16):\n",
    "        column = np.zeros((16, 3))\n",
    "        for j in range(0, 16):\n",
    "            column[j] = resized_image[row_number+i][column_number+j]\n",
    "        frame[i] = column\n",
    "    \n",
    "    return frame"
   ]
  },
  {
   "cell_type": "markdown",
   "id": "ec753d0c",
   "metadata": {},
   "source": [
    "## Testing the above method and plotting the frame"
   ]
  },
  {
   "cell_type": "code",
   "execution_count": 6,
   "id": "1fe70a60",
   "metadata": {
    "scrolled": true
   },
   "outputs": [
    {
     "data": {
      "text/plain": [
       "<matplotlib.image.AxesImage at 0x16c39794288>"
      ]
     },
     "execution_count": 6,
     "metadata": {},
     "output_type": "execute_result"
    },
    {
     "data": {
      "image/png": "[encoded data removed]",
      "text/plain": [
       "<Figure size 432x288 with 1 Axes>"
      ]
     },
     "metadata": {
      "needs_background": "light"
     },
     "output_type": "display_data"
    }
   ],
   "source": [
    "from matplotlib import pyplot as plt\n",
    "\n",
    "result_frame = get_frame(720, 780)\n",
    "\n",
    "plt.axis(\"off\")\n",
    "\n",
    "plt.imshow(result_frame.astype(np.uint8))"
   ]
  },
  {
   "cell_type": "markdown",
   "id": "fb54b44c",
   "metadata": {},
   "source": [
    "## Tetsing the kmeans to different frames"
   ]
  },
  {
   "cell_type": "code",
   "execution_count": 5,
   "id": "12f6b149",
   "metadata": {},
   "outputs": [
    {
     "name": "stdout",
     "output_type": "stream",
     "text": [
      "[0 1 0 1 1 0]\n"
     ]
    }
   ],
   "source": [
    "import cv2\n",
    "\n",
    "frame1 = get_frame(658, 557)\n",
    "frame1 = frame1.reshape((1, -1))\n",
    "frame2 = get_frame(354, 610)\n",
    "frame2 = frame2.reshape((1, -1))\n",
    "\n",
    "Z = np.vstack((frame1,frame2,frame1, frame2, frame2, frame1))\n",
    "\n",
    "values = np.float32(Z)\n",
    "\n",
    "criteria = (cv2.TERM_CRITERIA_EPS + cv2.TERM_CRITERIA_MAX_ITER, 100, 0.2)\n",
    "k = 2\n",
    "_, labels, (centers) = cv2.kmeans(values, k, None, criteria, 10, cv2.KMEANS_RANDOM_CENTERS)\n",
    "\n",
    "centers = np.uint8(centers)\n",
    "\n",
    "labels = labels.flatten()\n",
    "\n",
    "segmented_images = centers[labels.flatten()]\n",
    "\n",
    "#segmented_images = np.vsplit(segmented_images, 3)\n",
    "\n",
    "print(labels)"
   ]
  },
  {
   "cell_type": "code",
   "execution_count": 6,
   "id": "f08c68fd",
   "metadata": {},
   "outputs": [
    {
     "name": "stdout",
     "output_type": "stream",
     "text": [
      "[2 2 3 1 1 0]\n"
     ]
    }
   ],
   "source": [
    "import cv2\n",
    "\n",
    "frame_avokado1 = get_frame(658, 557)\n",
    "frame_avokado2 = get_frame(595, 600)\n",
    "frame_background = get_frame(354, 610)\n",
    "frame_vase1 = get_frame(600, 360)\n",
    "frame_vase2 = get_frame(700, 320)\n",
    "frame_paprika = get_frame(720, 780)\n",
    "\n",
    "frame_avokado1 = frame_avokado1.reshape((1, -1))\n",
    "frame_avokado2 = frame_avokado2.reshape((1, -1))\n",
    "frame_background = frame_background.reshape((1, -1))\n",
    "frame_vase1 = frame_vase1.reshape((1, -1))\n",
    "frame_vase2 = frame_vase2.reshape((1, -1))\n",
    "frame_paprika = frame_paprika.reshape((1, -1))\n",
    "\n",
    "Z = np.vstack((frame_avokado1,frame_avokado2,frame_background, frame_vase1, frame_vase2, frame_paprika))\n",
    "\n",
    "values = np.float32(Z)\n",
    "\n",
    "criteria = (cv2.TERM_CRITERIA_EPS + cv2.TERM_CRITERIA_MAX_ITER, 100, 0.2)\n",
    "k = 4\n",
    "_, labels, (centers) = cv2.kmeans(values, k, None, criteria, 10, cv2.KMEANS_RANDOM_CENTERS)\n",
    "\n",
    "centers = np.uint8(centers)\n",
    "\n",
    "labels = labels.flatten()\n",
    "\n",
    "segmented_images = centers[labels.flatten()]\n",
    "\n",
    "print(labels)"
   ]
  },
  {
   "cell_type": "markdown",
   "id": "4088018d",
   "metadata": {},
   "source": [
    "## Getting the optimal cluster size"
   ]
  },
  {
   "cell_type": "code",
   "execution_count": 13,
   "id": "e62daf73",
   "metadata": {},
   "outputs": [
    {
     "data": {
      "image/png": "[encoded data removed]",
      "text/plain": [
       "<Figure size 432x288 with 1 Axes>"
      ]
     },
     "metadata": {
      "needs_background": "light"
     },
     "output_type": "display_data"
    }
   ],
   "source": [
    "import commonmethods.image_modification as im\n",
    "\n",
    "wcss = []   #within cluster sum of squares\n",
    "\n",
    "criteria = (cv2.TERM_CRITERIA_EPS + cv2.TERM_CRITERIA_MAX_ITER, 100, 0.2)\n",
    "\n",
    "for k in range(1, len(values)+1):\n",
    "    compactness, _, _ = cv2.kmeans(values, k, None, criteria, 10, cv2.KMEANS_RANDOM_CENTERS)\n",
    "    wcss.append(compactness)\n",
    "\n",
    "plt.plot(range(1, len(values)+1), wcss)\n",
    "plt.title('The elbow method')\n",
    "plt.xlabel('Number of clusters')\n",
    "plt.ylabel('WCSS') #within cluster sum of squares\n",
    "plt.show()"
   ]
  },
  {
   "cell_type": "code",
   "execution_count": 31,
   "id": "69b6ba50",
   "metadata": {},
   "outputs": [
    {
     "name": "stdout",
     "output_type": "stream",
     "text": [
      "[1 1 1 0 0 0]\n",
      "k: 2, S: 0.6031238436698914, DB: 0.419121436429263, CH: 18.861300486900472\n",
      "[0 0 1 2 2 2]\n",
      "k: 3, S: 0.40283751487731934, DB: 0.35098723820579464, CH: 13.351915565117537\n",
      "[1 1 3 0 0 2]\n",
      "k: 4, S: 0.3056747019290924, DB: 0.25750165778287426, CH: 22.49276223056854\n",
      "[0 3 2 4 4 1]\n",
      "k: 5, S: 0.18032801151275635, DB: 0.14009845755335873, CH: 23.824592623771387\n",
      "[0.60312384, 2]\n",
      "[0.14009845755335873, 5]\n",
      "[23.824592623771387, 5]\n"
     ]
    }
   ],
   "source": [
    "import commonmethods.image_modification as im\n",
    "import commonmethods.optimal_cluster_number as ocn\n",
    "\n",
    "#the best value and the cluster which resulted\n",
    "s_closest = [0, 2]\n",
    "db_min = [1000000, 2]\n",
    "ch_max = [0, 2]\n",
    "\n",
    "for i in range(2, len(values)):\n",
    "    \n",
    "    criteria = (cv2.TERM_CRITERIA_EPS + cv2.TERM_CRITERIA_MAX_ITER, 100, 0.2)\n",
    "    \n",
    "    _, labels, _ = cv2.kmeans(values, i, None, criteria, 10, cv2.KMEANS_RANDOM_CENTERS)\n",
    "    \n",
    "    labels = labels.flatten()\n",
    "    print(labels)\n",
    "\n",
    "    s_time, s_score = ocn.silhouette_method(values, labels)\n",
    "    db_time, db_score = ocn.davies_bouldin_method(values, labels)\n",
    "    ch_time, ch_score = ocn.calinski_harabasz_method(values, labels)\n",
    "    \n",
    "    print(\"k: {}, S: {}, DB: {}, CH: {}\".format(i, s_score, db_score, ch_score))\n",
    "    \n",
    "    #get the best cluster number for each methods\n",
    "    if((1-s_score) < (1-s_closest[0])):\n",
    "        s_closest = [s_score, i]\n",
    "\n",
    "    if(db_score < db_min[0]):\n",
    "        db_min = [db_score, i]\n",
    "\n",
    "    if(ch_score > ch_max[0]):\n",
    "        ch_max = [ch_score, i]\n",
    "        \n",
    "print(s_closest)\n",
    "print(db_min)\n",
    "print(ch_max)"
   ]
  },
  {
   "cell_type": "markdown",
   "id": "c74f5032",
   "metadata": {},
   "source": [
    "## Get frames diagonally"
   ]
  },
  {
   "cell_type": "code",
   "execution_count": 61,
   "id": "b46d84b7",
   "metadata": {},
   "outputs": [],
   "source": [
    "def get_frame_values(frame_num, xy, px):\n",
    "    pixels = np.zeros((frame_num, 2))\n",
    "    for i in range(frame_num):\n",
    "        frame = get_frame(xy, xy)\n",
    "        frame = frame.reshape((1, -1))\n",
    "        pixels[i] = [xy, xy]\n",
    "        \n",
    "        if i == 0:\n",
    "            result = np.array(frame)\n",
    "        else:\n",
    "            result = np.vstack([result, frame])\n",
    "            \n",
    "        xy = xy + px\n",
    "    \n",
    "    return result, pixels"
   ]
  },
  {
   "cell_type": "code",
   "execution_count": 67,
   "id": "21219bc4",
   "metadata": {},
   "outputs": [],
   "source": [
    "def color_frames(image, lables, pixels, px):\n",
    "    colored_image = image\n",
    "    colors = np.array([[0, 0, 135],[255, 0, 0], [255, 255, 0],[255, 0, 127],[0, 255, 0]])\n",
    "    \n",
    "    for i in range(len(labels)):\n",
    "        colored_image[int(pixels[i][0]):int(pixels[i][0]+px), int(pixels[i][1]):int(pixels[i][1]+px)] = (255, 0, 0)\n",
    "    \n",
    "    return colored_image"
   ]
  },
  {
   "cell_type": "code",
   "execution_count": 79,
   "id": "081eea64",
   "metadata": {},
   "outputs": [
    {
     "name": "stdout",
     "output_type": "stream",
     "text": [
      "[[  0.   0.   0. ...   1.   1.   1.]\n",
      " [  1.   1.   1. ...   0.   0.   0.]\n",
      " [  0.   0.   0. ...   1.   1.   1.]\n",
      " ...\n",
      " [199. 199. 199. ... 201. 201. 201.]\n",
      " [188. 188. 188. ... 119. 119. 119.]\n",
      " [120. 120. 120. ... 100. 100. 100.]]\n"
     ]
    },
    {
     "ename": "ValueError",
     "evalue": "could not broadcast input array from shape (3) into shape (16,16)",
     "output_type": "error",
     "traceback": [
      "\u001b[1;31m---------------------------------------------------------------------------\u001b[0m",
      "\u001b[1;31mValueError\u001b[0m                                Traceback (most recent call last)",
      "\u001b[1;32m<ipython-input-79-2d927644e8d1>\u001b[0m in \u001b[0;36m<module>\u001b[1;34m\u001b[0m\n\u001b[0;32m     26\u001b[0m \u001b[0mprint\u001b[0m\u001b[1;33m(\u001b[0m\u001b[0mframe_values\u001b[0m\u001b[1;33m)\u001b[0m\u001b[1;33m\u001b[0m\u001b[1;33m\u001b[0m\u001b[0m\n\u001b[0;32m     27\u001b[0m \u001b[1;33m\u001b[0m\u001b[0m\n\u001b[1;32m---> 28\u001b[1;33m \u001b[0mcl_image\u001b[0m \u001b[1;33m=\u001b[0m \u001b[0mcolor_frames\u001b[0m\u001b[1;33m(\u001b[0m\u001b[0mresized_image\u001b[0m\u001b[1;33m,\u001b[0m \u001b[0mlabels\u001b[0m\u001b[1;33m.\u001b[0m\u001b[0mflatten\u001b[0m\u001b[1;33m(\u001b[0m\u001b[1;33m)\u001b[0m\u001b[1;33m,\u001b[0m \u001b[0mpixels\u001b[0m\u001b[1;33m,\u001b[0m \u001b[0mpx\u001b[0m\u001b[1;33m)\u001b[0m\u001b[1;33m\u001b[0m\u001b[1;33m\u001b[0m\u001b[0m\n\u001b[0m\u001b[0;32m     29\u001b[0m \u001b[1;33m\u001b[0m\u001b[0m\n\u001b[0;32m     30\u001b[0m \u001b[0mplt\u001b[0m\u001b[1;33m.\u001b[0m\u001b[0maxis\u001b[0m\u001b[1;33m(\u001b[0m\u001b[1;34m\"off\"\u001b[0m\u001b[1;33m)\u001b[0m\u001b[1;33m\u001b[0m\u001b[1;33m\u001b[0m\u001b[0m\n",
      "\u001b[1;32m<ipython-input-67-dfafc63a5b54>\u001b[0m in \u001b[0;36mcolor_frames\u001b[1;34m(image, lables, pixels, px)\u001b[0m\n\u001b[0;32m      4\u001b[0m \u001b[1;33m\u001b[0m\u001b[0m\n\u001b[0;32m      5\u001b[0m     \u001b[1;32mfor\u001b[0m \u001b[0mi\u001b[0m \u001b[1;32min\u001b[0m \u001b[0mrange\u001b[0m\u001b[1;33m(\u001b[0m\u001b[0mlen\u001b[0m\u001b[1;33m(\u001b[0m\u001b[0mlabels\u001b[0m\u001b[1;33m)\u001b[0m\u001b[1;33m)\u001b[0m\u001b[1;33m:\u001b[0m\u001b[1;33m\u001b[0m\u001b[1;33m\u001b[0m\u001b[0m\n\u001b[1;32m----> 6\u001b[1;33m         \u001b[0mcolored_image\u001b[0m\u001b[1;33m[\u001b[0m\u001b[0mint\u001b[0m\u001b[1;33m(\u001b[0m\u001b[0mpixels\u001b[0m\u001b[1;33m[\u001b[0m\u001b[0mi\u001b[0m\u001b[1;33m]\u001b[0m\u001b[1;33m[\u001b[0m\u001b[1;36m0\u001b[0m\u001b[1;33m]\u001b[0m\u001b[1;33m)\u001b[0m\u001b[1;33m:\u001b[0m\u001b[0mint\u001b[0m\u001b[1;33m(\u001b[0m\u001b[0mpixels\u001b[0m\u001b[1;33m[\u001b[0m\u001b[0mi\u001b[0m\u001b[1;33m]\u001b[0m\u001b[1;33m[\u001b[0m\u001b[1;36m0\u001b[0m\u001b[1;33m]\u001b[0m\u001b[1;33m+\u001b[0m\u001b[0mpx\u001b[0m\u001b[1;33m)\u001b[0m\u001b[1;33m,\u001b[0m \u001b[0mint\u001b[0m\u001b[1;33m(\u001b[0m\u001b[0mpixels\u001b[0m\u001b[1;33m[\u001b[0m\u001b[0mi\u001b[0m\u001b[1;33m]\u001b[0m\u001b[1;33m[\u001b[0m\u001b[1;36m1\u001b[0m\u001b[1;33m]\u001b[0m\u001b[1;33m)\u001b[0m\u001b[1;33m:\u001b[0m\u001b[0mint\u001b[0m\u001b[1;33m(\u001b[0m\u001b[0mpixels\u001b[0m\u001b[1;33m[\u001b[0m\u001b[0mi\u001b[0m\u001b[1;33m]\u001b[0m\u001b[1;33m[\u001b[0m\u001b[1;36m1\u001b[0m\u001b[1;33m]\u001b[0m\u001b[1;33m+\u001b[0m\u001b[0mpx\u001b[0m\u001b[1;33m)\u001b[0m\u001b[1;33m]\u001b[0m \u001b[1;33m=\u001b[0m \u001b[1;33m(\u001b[0m\u001b[1;36m255\u001b[0m\u001b[1;33m,\u001b[0m \u001b[1;36m0\u001b[0m\u001b[1;33m,\u001b[0m \u001b[1;36m0\u001b[0m\u001b[1;33m)\u001b[0m\u001b[1;33m\u001b[0m\u001b[1;33m\u001b[0m\u001b[0m\n\u001b[0m\u001b[0;32m      7\u001b[0m \u001b[1;33m\u001b[0m\u001b[0m\n\u001b[0;32m      8\u001b[0m     \u001b[1;32mreturn\u001b[0m \u001b[0mcolored_image\u001b[0m\u001b[1;33m\u001b[0m\u001b[1;33m\u001b[0m\u001b[0m\n",
      "\u001b[1;31mValueError\u001b[0m: could not broadcast input array from shape (3) into shape (16,16)"
     ]
    }
   ],
   "source": [
    "import cv2\n",
    "from matplotlib import pyplot as plt\n",
    "\n",
    "px = 16\n",
    "xy = 0\n",
    "height, width = resized_image.shape\n",
    "\n",
    "h_num = int(height / px)\n",
    "w_num = int(width / px)\n",
    "diff = abs(h_num - w_num)\n",
    "\n",
    "if(h_num == w_num):\n",
    "    frame_values, pixels = get_frame_values(h_num, xy, px)\n",
    "else:\n",
    "    if(h_num > w_num):\n",
    "        frame_values, pixels = get_frame_values(w_num, xy, px)\n",
    "    else:\n",
    "        frame_values, pixels = get_frame_values(h_num, xy, px)\n",
    "\n",
    "frame_values = np.float32(frame_values)\n",
    "\n",
    "criteria = (cv2.TERM_CRITERIA_EPS + cv2.TERM_CRITERIA_MAX_ITER, 100, 0.2)\n",
    "k = 5\n",
    "_, labels, (centers) = cv2.kmeans(frame_values, k, None, criteria, 10, cv2.KMEANS_RANDOM_CENTERS)\n",
    "\n",
    "print(frame_values)\n",
    "\n",
    "cl_image = color_frames(resized_image, labels.flatten(), pixels, px)\n",
    "\n",
    "plt.axis(\"off\")\n",
    "\n",
    "plt.imshow(cl_image)"
   ]
  },
  {
   "cell_type": "code",
   "execution_count": 72,
   "id": "09396a33",
   "metadata": {},
   "outputs": [
    {
     "name": "stderr",
     "output_type": "stream",
     "text": [
      "Clipping input data to the valid range for imshow with RGB data ([0..1] for floats or [0..255] for integers).\n"
     ]
    },
    {
     "name": "stdout",
     "output_type": "stream",
     "text": [
      "(312, 312, 3)\n"
     ]
    },
    {
     "data": {
      "text/plain": [
       "<matplotlib.image.AxesImage at 0x16c3c1adb88>"
      ]
     },
     "execution_count": 72,
     "metadata": {},
     "output_type": "execute_result"
    },
    {
     "data": {
      "image/png": "[encoded data removed]",
      "text/plain": [
       "<Figure size 432x288 with 1 Axes>"
      ]
     },
     "metadata": {
      "needs_background": "light"
     },
     "output_type": "display_data"
    }
   ],
   "source": [
    "x = np.zeros((312, 312,3), dtype=np.float32)\n",
    "\n",
    "x[0:10,:] = (0,0,255) # red\n",
    "x[:,0:10] = (255,0,0) # blue\n",
    "\n",
    "print(x.shape)\n",
    "\n",
    "plt.imshow(x)"
   ]
  },
  {
   "cell_type": "code",
   "execution_count": null,
   "id": "63b5333b",
   "metadata": {},
   "outputs": [],
   "source": []
  }
 ],
 "metadata": {
  "kernelspec": {
   "display_name": "Python 3",
   "language": "python",
   "name": "python3"
  },
  "language_info": {
   "codemirror_mode": {
    "name": "ipython",
    "version": 3
   },
   "file_extension": ".py",
   "mimetype": "text/x-python",
   "name": "python",
   "nbconvert_exporter": "python",
   "pygments_lexer": "ipython3",
   "version": "3.7.13"
  }
 },
 "nbformat": 4,
 "nbformat_minor": 5
}
