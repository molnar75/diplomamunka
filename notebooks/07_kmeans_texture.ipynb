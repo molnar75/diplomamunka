{
 "cells": [
  {
   "cell_type": "markdown",
   "id": "2c444b2b",
   "metadata": {},
   "source": [
    "# Testing kmeans method with image frames (16x16)"
   ]
  },
  {
   "cell_type": "markdown",
   "id": "c480c533",
   "metadata": {},
   "source": [
    "## Loading the image "
   ]
  },
  {
   "cell_type": "code",
   "execution_count": 35,
   "id": "8ac4c4f0",
   "metadata": {},
   "outputs": [],
   "source": [
    "import commonmethods.image_modification as im\n",
    "\n",
    "image = im.load_image_grayscale('5')\n",
    "\n",
    "resized_image = im.resize_image(image, 1024)"
   ]
  },
  {
   "cell_type": "markdown",
   "id": "53939c90",
   "metadata": {},
   "source": [
    "## Method for getting the image frame, size: 16x16"
   ]
  },
  {
   "cell_type": "code",
   "execution_count": 2,
   "id": "ba081c62",
   "metadata": {},
   "outputs": [],
   "source": [
    "from matplotlib import pyplot as plt\n",
    "import numpy as np\n",
    "\n",
    "def get_frame(row_number, column_number, px):\n",
    "    frame = np.zeros((px, px, 3))\n",
    "\n",
    "    for i in range(0, px):\n",
    "        column = np.zeros((px, 3))\n",
    "        for j in range(0, px):\n",
    "            column[j] = resized_image[row_number+i][column_number+j]\n",
    "        frame[i] = column\n",
    "    \n",
    "    return frame"
   ]
  },
  {
   "cell_type": "markdown",
   "id": "ec753d0c",
   "metadata": {},
   "source": [
    "## Testing the above method and plotting the frame"
   ]
  },
  {
   "cell_type": "code",
   "execution_count": null,
   "id": "1fe70a60",
   "metadata": {
    "scrolled": true
   },
   "outputs": [],
   "source": [
    "from matplotlib import pyplot as plt\n",
    "\n",
    "px = 16\n",
    "\n",
    "result_frame = get_frame(720, 780, px)\n",
    "\n",
    "plt.axis(\"off\")\n",
    "\n",
    "plt.imshow(result_frame.astype(np.uint8))"
   ]
  },
  {
   "cell_type": "markdown",
   "id": "fb54b44c",
   "metadata": {},
   "source": [
    "## Tetsing the kmeans to different frames"
   ]
  },
  {
   "cell_type": "code",
   "execution_count": null,
   "id": "12f6b149",
   "metadata": {},
   "outputs": [],
   "source": [
    "import cv2\n",
    "\n",
    "frame1 = get_frame(658, 557)\n",
    "frame1 = frame1.reshape((1, -1))\n",
    "frame2 = get_frame(354, 610)\n",
    "frame2 = frame2.reshape((1, -1))\n",
    "\n",
    "Z = np.vstack((frame1,frame2,frame1, frame2, frame2, frame1))\n",
    "\n",
    "values = np.float32(Z)\n",
    "\n",
    "criteria = (cv2.TERM_CRITERIA_EPS + cv2.TERM_CRITERIA_MAX_ITER, 100, 0.2)\n",
    "k = 2\n",
    "_, labels, (centers) = cv2.kmeans(values, k, None, criteria, 10, cv2.KMEANS_RANDOM_CENTERS)\n",
    "\n",
    "centers = np.uint8(centers)\n",
    "\n",
    "labels = labels.flatten()\n",
    "\n",
    "segmented_images = centers[labels.flatten()]\n",
    "\n",
    "#segmented_images = np.vsplit(segmented_images, 3)\n",
    "\n",
    "print(labels)"
   ]
  },
  {
   "cell_type": "code",
   "execution_count": null,
   "id": "f08c68fd",
   "metadata": {},
   "outputs": [],
   "source": [
    "import cv2\n",
    "\n",
    "frame_avokado1 = get_frame(658, 557)\n",
    "frame_avokado2 = get_frame(595, 600)\n",
    "frame_background = get_frame(354, 610)\n",
    "frame_vase1 = get_frame(600, 360)\n",
    "frame_vase2 = get_frame(700, 320)\n",
    "frame_paprika = get_frame(720, 780)\n",
    "\n",
    "frame_avokado1 = frame_avokado1.reshape((1, -1))\n",
    "frame_avokado2 = frame_avokado2.reshape((1, -1))\n",
    "frame_background = frame_background.reshape((1, -1))\n",
    "frame_vase1 = frame_vase1.reshape((1, -1))\n",
    "frame_vase2 = frame_vase2.reshape((1, -1))\n",
    "frame_paprika = frame_paprika.reshape((1, -1))\n",
    "\n",
    "Z = np.vstack((frame_avokado1,frame_avokado2,frame_background, frame_vase1, frame_vase2, frame_paprika))\n",
    "\n",
    "values = np.float32(Z)\n",
    "\n",
    "criteria = (cv2.TERM_CRITERIA_EPS + cv2.TERM_CRITERIA_MAX_ITER, 100, 0.2)\n",
    "k = 4\n",
    "_, labels, (centers) = cv2.kmeans(values, k, None, criteria, 10, cv2.KMEANS_RANDOM_CENTERS)\n",
    "\n",
    "centers = np.uint8(centers)\n",
    "\n",
    "labels = labels.flatten()\n",
    "\n",
    "segmented_images = centers[labels.flatten()]\n",
    "\n",
    "print(labels)"
   ]
  },
  {
   "cell_type": "markdown",
   "id": "4088018d",
   "metadata": {},
   "source": [
    "## Getting the optimal cluster size"
   ]
  },
  {
   "cell_type": "code",
   "execution_count": null,
   "id": "e62daf73",
   "metadata": {},
   "outputs": [],
   "source": [
    "import commonmethods.image_modification as im\n",
    "\n",
    "wcss = []   #within cluster sum of squares\n",
    "\n",
    "criteria = (cv2.TERM_CRITERIA_EPS + cv2.TERM_CRITERIA_MAX_ITER, 100, 0.2)\n",
    "\n",
    "for k in range(1, len(values)+1):\n",
    "    compactness, _, _ = cv2.kmeans(values, k, None, criteria, 10, cv2.KMEANS_RANDOM_CENTERS)\n",
    "    wcss.append(compactness)\n",
    "\n",
    "plt.plot(range(1, len(values)+1), wcss)\n",
    "plt.title('The elbow method')\n",
    "plt.xlabel('Number of clusters')\n",
    "plt.ylabel('WCSS') #within cluster sum of squares\n",
    "plt.show()"
   ]
  },
  {
   "cell_type": "code",
   "execution_count": null,
   "id": "69b6ba50",
   "metadata": {},
   "outputs": [],
   "source": [
    "import commonmethods.image_modification as im\n",
    "import commonmethods.optimal_cluster_number as ocn\n",
    "\n",
    "#the best value and the cluster which resulted\n",
    "s_closest = [0, 2]\n",
    "db_min = [1000000, 2]\n",
    "ch_max = [0, 2]\n",
    "\n",
    "for i in range(2, len(values)):\n",
    "    \n",
    "    criteria = (cv2.TERM_CRITERIA_EPS + cv2.TERM_CRITERIA_MAX_ITER, 100, 0.2)\n",
    "    \n",
    "    _, labels, _ = cv2.kmeans(values, i, None, criteria, 10, cv2.KMEANS_RANDOM_CENTERS)\n",
    "    \n",
    "    labels = labels.flatten()\n",
    "    print(labels)\n",
    "\n",
    "    s_time, s_score = ocn.silhouette_method(values, labels)\n",
    "    db_time, db_score = ocn.davies_bouldin_method(values, labels)\n",
    "    ch_time, ch_score = ocn.calinski_harabasz_method(values, labels)\n",
    "    \n",
    "    print(\"k: {}, S: {}, DB: {}, CH: {}\".format(i, s_score, db_score, ch_score))\n",
    "    \n",
    "    #get the best cluster number for each methods\n",
    "    if((1-s_score) < (1-s_closest[0])):\n",
    "        s_closest = [s_score, i]\n",
    "\n",
    "    if(db_score < db_min[0]):\n",
    "        db_min = [db_score, i]\n",
    "\n",
    "    if(ch_score > ch_max[0]):\n",
    "        ch_max = [ch_score, i]\n",
    "        \n",
    "print(s_closest)\n",
    "print(db_min)\n",
    "print(ch_max)"
   ]
  },
  {
   "cell_type": "markdown",
   "id": "c74f5032",
   "metadata": {},
   "source": [
    "## Get frames diagonally"
   ]
  },
  {
   "cell_type": "code",
   "execution_count": 3,
   "id": "b46d84b7",
   "metadata": {},
   "outputs": [],
   "source": [
    "'''\n",
    "Get frames from the left corner (0,0) to the right side.\n",
    "'''\n",
    "def get_frame_values(frame_num, xy, px):\n",
    "    pixels = np.zeros((frame_num, 2))\n",
    "    for i in range(frame_num):\n",
    "        frame = get_frame(xy, xy, px)\n",
    "        frame = frame.reshape((1, -1))\n",
    "        pixels[i] = [xy, xy] #saving the start pixels of the frames\n",
    "        \n",
    "        if i == 0:\n",
    "            result = np.array(frame)\n",
    "        else:\n",
    "            result = np.vstack([result, frame])\n",
    "            \n",
    "        xy = xy + px\n",
    "    \n",
    "    return result, pixels"
   ]
  },
  {
   "cell_type": "code",
   "execution_count": 49,
   "id": "21219bc4",
   "metadata": {},
   "outputs": [],
   "source": [
    "def color_frames(image, lables, pixels, px):\n",
    "    colored_image = cv2.cvtColor(image, cv2.COLOR_GRAY2BGR)\n",
    "    colors = np.array([[0, 0, 135],[255, 0, 0], [255, 255, 0],[255, 0, 127],[0, 255, 0]])\n",
    "    \n",
    "    for i in range(len(labels)):\n",
    "        colored_image[int(pixels[i][0]):int(pixels[i][0]+px), int(pixels[i][1]):int(pixels[i][1]+px)] = colors[labels[i]]\n",
    "    \n",
    "    return colored_image"
   ]
  },
  {
   "cell_type": "code",
   "execution_count": 51,
   "id": "081eea64",
   "metadata": {},
   "outputs": [
    {
     "data": {
      "text/plain": [
       "<matplotlib.image.AxesImage at 0x25e8c39cb08>"
      ]
     },
     "execution_count": 51,
     "metadata": {},
     "output_type": "execute_result"
    },
    {
     "data": {
      "image/png": "[encoded data removed]",
      "text/plain": [
       "<Figure size 432x288 with 1 Axes>"
      ]
     },
     "metadata": {
      "needs_background": "light"
     },
     "output_type": "display_data"
    }
   ],
   "source": [
    "import cv2\n",
    "from matplotlib import pyplot as plt\n",
    "\n",
    "px = 16\n",
    "xy = 0\n",
    "height = resized_image.shape[0]\n",
    "width = resized_image.shape[1]\n",
    "\n",
    "h_num = int(height / px)\n",
    "w_num = int(width / px)\n",
    "diff = abs(h_num - w_num)\n",
    "\n",
    "if(h_num == w_num):\n",
    "    frame_values, pixels = get_frame_values(h_num, xy, px)\n",
    "else:\n",
    "    if(h_num > w_num):\n",
    "        frame_values, pixels = get_frame_values(w_num, xy, px)\n",
    "    else:\n",
    "        frame_values, pixels = get_frame_values(h_num, xy, px)\n",
    "\n",
    "frame_values = np.float32(frame_values)\n",
    "\n",
    "criteria = (cv2.TERM_CRITERIA_EPS + cv2.TERM_CRITERIA_MAX_ITER, 100, 0.2)\n",
    "k = 5\n",
    "_, labels, (centers) = cv2.kmeans(frame_values, k, None, criteria, 10, cv2.KMEANS_RANDOM_CENTERS)\n",
    "\n",
    "segmented_image = centers[labels.flatten()]\n",
    "\n",
    "cl_image = color_frames(resized_image, labels.flatten(), pixels, px)\n",
    "\n",
    "plt.axis(\"off\")\n",
    "\n",
    "plt.imshow(cl_image)"
   ]
  },
  {
   "cell_type": "code",
   "execution_count": null,
   "id": "654c9d28",
   "metadata": {},
   "outputs": [],
   "source": []
  }
 ],
 "metadata": {
  "kernelspec": {
   "display_name": "Python 3",
   "language": "python",
   "name": "python3"
  },
  "language_info": {
   "codemirror_mode": {
    "name": "ipython",
    "version": 3
   },
   "file_extension": ".py",
   "mimetype": "text/x-python",
   "name": "python",
   "nbconvert_exporter": "python",
   "pygments_lexer": "ipython3",
   "version": "3.7.13"
  }
 },
 "nbformat": 4,
 "nbformat_minor": 5
}
