{
 "cells": [
  {
   "cell_type": "markdown",
   "metadata": {},
   "source": [
    "# Comparing Silhouette, Davies-Bouldin, Calinski-Harabasz methods"
   ]
  },
  {
   "cell_type": "markdown",
   "metadata": {},
   "source": [
    "### Method for plotting the results"
   ]
  },
  {
   "cell_type": "code",
   "execution_count": 1,
   "metadata": {},
   "outputs": [],
   "source": [
    "from matplotlib import pyplot as plt\n",
    "\n",
    "def plot_result(size_values, s_times, db_times, ch_times, addition):\n",
    "\n",
    "    default_x_ticks = range(len(size_values))\n",
    "\n",
    "    plt.title('Running times of the methods (' + addition + ')')\n",
    "\n",
    "    plt.plot(s_times, label='Silhouette method')\n",
    "    plt.plot(db_times, label='Davies-Bouldin method')\n",
    "    plt.plot(ch_times, label='Calinski-Harabasz method')\n",
    "\n",
    "    plt.xticks(default_x_ticks, size_values)\n",
    "\n",
    "    plt.xlabel(\"Image size\")\n",
    "    plt.ylabel(\"Time (s)\")\n",
    "\n",
    "    plt.legend()\n",
    "    plt.show()"
   ]
  },
  {
   "cell_type": "markdown",
   "metadata": {},
   "source": [
    "## Calculating and plotting run times for different images and different image sizes k=2"
   ]
  },
  {
   "cell_type": "code",
   "execution_count": null,
   "metadata": {},
   "outputs": [],
   "source": [
    "import commonmethods.image_modification as im\n",
    "import commonmethods.optimal_cluster_number as ocn\n",
    "\n",
    "size_values = [256, 512, 768, 1024, 1280]\n",
    "\n",
    "for i in range(6):\n",
    "    s_times = []\n",
    "    db_times = []\n",
    "    ch_times = []\n",
    "\n",
    "    image = im.load_image_grayscale(format(i))\n",
    "\n",
    "    for j in size_values:\n",
    "        resized_image = im.resize_image(image, j)\n",
    "\n",
    "        pixel_values, labels = im.image_segmentation(resized_image, 2)\n",
    "\n",
    "        s_time, s_score = ocn.silhouette_method(pixel_values, labels)\n",
    "        db_time, db_score = ocn.davies_bouldin_method(pixel_values, labels)\n",
    "        ch_time, ch_score = ocn.calinski_harabasz_method(pixel_values, labels)\n",
    "        \n",
    "        s_times.append(s_time)\n",
    "        db_times.append(db_time)\n",
    "        ch_times.append(ch_time)\n",
    "\n",
    "    addition = 'image: ' + format(i) + '.jpg'\n",
    "    plot_result(size_values, s_times, db_times, ch_times, addition)"
   ]
  },
  {
   "cell_type": "markdown",
   "metadata": {},
   "source": [
    "## Calculating and plotting run times for different cluster numbers and different image sizes"
   ]
  },
  {
   "cell_type": "code",
   "execution_count": null,
   "metadata": {},
   "outputs": [],
   "source": [
    "import commonmethods.image_modification as im\n",
    "import commonmethods.optimal_cluster_number as ocn\n",
    "\n",
    "size_values = [256, 512, 768, 1024, 1280]\n",
    "\n",
    "#the best value and the cluster which resulted\n",
    "s_closest = [[0, 2], [0, 2], [0, 2], [0, 2], [0, 2]]\n",
    "db_min = [[1000000, 2], [1000000, 2], [1000000, 2], [1000000, 2], [1000000, 2]] #TODO \n",
    "ch_max = [[0, 2], [0, 2], [0, 2], [0, 2], [0, 2]]\n",
    "\n",
    "image = im.load_image_grayscale('5')\n",
    "\n",
    "for i in range(2, 11):\n",
    "    s_times = []\n",
    "    db_times = []\n",
    "    ch_times = []\n",
    "\n",
    "    for j, val in enumerate(size_values):\n",
    "        resized_image = im.resize_image(image, val)\n",
    "\n",
    "        pixel_values, labels = im.image_segmentation(resized_image, i)\n",
    "        \n",
    "        s_time, s_score = ocn.silhouette_method(pixel_values, labels)\n",
    "        db_time, db_score = ocn.davies_bouldin_method(pixel_values, labels)\n",
    "        ch_time, ch_score = ocn.calinski_harabasz_method(pixel_values, labels)\n",
    "\n",
    "        s_times.append(s_time)\n",
    "        db_times.append(db_time)\n",
    "        ch_times.append(ch_time)\n",
    "        \n",
    "        #print('s_score: ' + format(s_score) + ', db_score: ' + format(db_score) + ', ch_score: ' + format(ch_score))\n",
    "        \n",
    "        #get the best cluster number for each methods\n",
    "        if((1-s_score) < (1-s_closest[j][0])):\n",
    "            s_closest[j] = [s_score, i]\n",
    "            \n",
    "        if(db_score < db_min[j][0]):\n",
    "            db_min[j] = [db_score, i]\n",
    "            \n",
    "        if(ch_score > ch_max[j][0]):\n",
    "            ch_max[j] = [ch_score, i]\n",
    "        \n",
    "\n",
    "    addition = 'cluster number: ' + format(i)\n",
    "    plot_result(size_values, s_times, db_times, ch_times, addition)\n",
    "\n",
    "print(s_closest)\n",
    "print(db_min)\n",
    "print(ch_max)"
   ]
  }
 ],
 "metadata": {
  "kernelspec": {
   "display_name": "Python 3",
   "language": "python",
   "name": "python3"
  },
  "language_info": {
   "codemirror_mode": {
    "name": "ipython",
    "version": 3
   },
   "file_extension": ".py",
   "mimetype": "text/x-python",
   "name": "python",
   "nbconvert_exporter": "python",
   "pygments_lexer": "ipython3",
   "version": "3.8.5"
  }
 },
 "nbformat": 4,
 "nbformat_minor": 4
}
