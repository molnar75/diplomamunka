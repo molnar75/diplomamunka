{
 "cells": [
  {
   "cell_type": "markdown",
   "metadata": {},
   "source": [
    "# Determine the appropriate cluster number"
   ]
  },
  {
   "cell_type": "markdown",
   "metadata": {},
   "source": [
    "## Getting labels"
   ]
  },
  {
   "cell_type": "code",
   "execution_count": 1,
   "metadata": {},
   "outputs": [
    {
     "name": "stdout",
     "output_type": "stream",
     "text": [
      "Calculation done!\n"
     ]
    }
   ],
   "source": [
    "from matplotlib import pyplot as plt\n",
    "import commonmethods.image_modification as im\n",
    "import commonmethods.optimal_cluster_number as ocn\n",
    "\n",
    "image = im.load_image_grayscale('5')\n",
    "\n",
    "compactness, pixel_values, labels, (centers) = im.kmeans_segmentation(image, 2)\n",
    "\n",
    "print('Calculation done!')"
   ]
  },
  {
   "cell_type": "markdown",
   "metadata": {},
   "source": [
    "## Calculate Silhouette score"
   ]
  },
  {
   "cell_type": "code",
   "execution_count": null,
   "metadata": {},
   "outputs": [],
   "source": [
    "# the best is the closest to 1\n",
    "from sklearn.metrics import silhouette_score\n",
    "import time\n",
    "\n",
    "start = time.time()\n",
    "s_score = silhouette_score(pixel_values, labels)\n",
    "end = time.time()\n",
    "\n",
    "time = end-start\n",
    "print('Silhouette Score: %.3f' % s_score)\n",
    "print('Runtime of the Silhouette method: %.3f s' % time)"
   ]
  },
  {
   "cell_type": "markdown",
   "metadata": {},
   "source": [
    "## Calculate Davies-Bouldin score"
   ]
  },
  {
   "cell_type": "code",
   "execution_count": 3,
   "metadata": {},
   "outputs": [
    {
     "name": "stdout",
     "output_type": "stream",
     "text": [
      "Davies-Bouldin Score: 0.263\n",
      "Runtime of the Davies-Bouldin method: 1.347\n"
     ]
    }
   ],
   "source": [
    "# the best is the least\n",
    "from sklearn.metrics import davies_bouldin_score\n",
    "import time\n",
    "\n",
    "start = time.time()\n",
    "db_score = davies_bouldin_score(pixel_values, labels)\n",
    "end = time.time()\n",
    "\n",
    "time = end-start\n",
    "print('Davies-Bouldin Score: %.3f' % db_score)\n",
    "print('Runtime of the Davies-Bouldin method: %.3f s' % time)"
   ]
  },
  {
   "cell_type": "markdown",
   "metadata": {},
   "source": [
    "## Calculate Calinski-Harabasz score"
   ]
  },
  {
   "cell_type": "code",
   "execution_count": 4,
   "metadata": {},
   "outputs": [
    {
     "name": "stdout",
     "output_type": "stream",
     "text": [
      "Calinski-Harabasz Score: 135945604.790\n",
      "Runtime of the Calinski-Harabasz method: 0.874\n"
     ]
    }
   ],
   "source": [
    "# the best is the biggest\n",
    "from sklearn.metrics import calinski_harabasz_score\n",
    "import time\n",
    "\n",
    "start = time.time()\n",
    "ch_score = calinski_harabasz_score(pixel_values, labels)\n",
    "end = time.time()\n",
    "\n",
    "time = end-start\n",
    "print('Calinski-Harabasz Score: %.3f' % ch_score)\n",
    "print('Runtime of the Calinski-Harabasz method: %.3f s' % time)"
   ]
  },
  {
   "cell_type": "markdown",
   "metadata": {},
   "source": [
    "## Elbow method"
   ]
  },
  {
   "cell_type": "code",
   "execution_count": null,
   "metadata": {},
   "outputs": [],
   "source": [
    "from sklearn.cluster import KMeans\n",
    "wcss = []   #within cluster sum of squares\n",
    "\n",
    "for k in range(1, 11):\n",
    "    compactness, _, _, _ = im.kmeans_segmentation(image, k)\n",
    "    wcss.append(compactness)\n",
    "    \n",
    "plt.plot(range(1, 11), wcss)\n",
    "plt.title('The elbow method')\n",
    "plt.xlabel('Number of clusters')\n",
    "plt.ylabel('WCSS') #within cluster sum of squares\n",
    "plt.show()"
   ]
  },
  {
   "cell_type": "code",
   "execution_count": null,
   "metadata": {},
   "outputs": [],
   "source": []
  }
 ],
 "metadata": {
  "kernelspec": {
   "display_name": "Python 3",
   "language": "python",
   "name": "python3"
  },
  "language_info": {
   "codemirror_mode": {
    "name": "ipython",
    "version": 3
   },
   "file_extension": ".py",
   "mimetype": "text/x-python",
   "name": "python",
   "nbconvert_exporter": "python",
   "pygments_lexer": "ipython3",
   "version": "3.8.5"
  }
 },
 "nbformat": 4,
 "nbformat_minor": 4
}
